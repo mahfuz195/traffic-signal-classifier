{
 "cells": [
  {
   "cell_type": "code",
   "execution_count": 1,
   "metadata": {},
   "outputs": [],
   "source": [
    "import glob "
   ]
  },
  {
   "cell_type": "code",
   "execution_count": 3,
   "metadata": {},
   "outputs": [
    {
     "name": "stdout",
     "output_type": "stream",
     "text": [
      "16609\n"
     ]
    }
   ],
   "source": [
    "attack_imgs = glob.glob('attack_data/attack/*/*.png')\n",
    "print (len(attack_imgs))"
   ]
  },
  {
   "cell_type": "code",
   "execution_count": 4,
   "metadata": {},
   "outputs": [
    {
     "name": "stdout",
     "output_type": "stream",
     "text": [
      "16609\n"
     ]
    }
   ],
   "source": [
    "non_attack_imgs = glob.glob('attack_data/non-attack/*/*.png')\n",
    "print (len(attack_imgs))"
   ]
  },
  {
   "cell_type": "code",
   "execution_count": 11,
   "metadata": {},
   "outputs": [
    {
     "name": "stdout",
     "output_type": "stream",
     "text": [
      "go\n"
     ]
    }
   ],
   "source": [
    "print (attack_imgs[0].split('/')[2])\n",
    "\n",
    "attack_dataset = {'go':0 , 'goForward':0, 'goLeft':0, 'stop':0, 'stopLeft':0, 'warning':0, 'warningLeft':0}\n",
    "\n",
    "for item in attack_imgs:\n",
    "    name = item.split('/')[2]\n",
    "    attack_dataset[name]+=1"
   ]
  },
  {
   "cell_type": "code",
   "execution_count": 12,
   "metadata": {},
   "outputs": [
    {
     "name": "stdout",
     "output_type": "stream",
     "text": [
      "{'go': 4140, 'goForward': 28, 'goLeft': 251, 'stop': 8540, 'stopLeft': 3009, 'warning': 573, 'warningLeft': 68}\n"
     ]
    }
   ],
   "source": [
    "print (attack_dataset)"
   ]
  },
  {
   "cell_type": "code",
   "execution_count": 13,
   "metadata": {},
   "outputs": [
    {
     "name": "stdout",
     "output_type": "stream",
     "text": [
      "go\n"
     ]
    }
   ],
   "source": [
    "print (non_attack_imgs[0].split('/')[2])\n",
    "\n",
    "non_attack_dataset = {'go':0 , 'goForward':0, 'goLeft':0, 'stop':0, 'stopLeft':0, 'warning':0, 'warningLeft':0}\n",
    "\n",
    "for item in non_attack_imgs:\n",
    "    name = item.split('/')[2]\n",
    "    non_attack_dataset[name]+=1"
   ]
  },
  {
   "cell_type": "code",
   "execution_count": 14,
   "metadata": {},
   "outputs": [
    {
     "name": "stdout",
     "output_type": "stream",
     "text": [
      "{'go': 3600, 'goForward': 0, 'goLeft': 514, 'stop': 1484, 'stopLeft': 232, 'warning': 242, 'warningLeft': 43}\n"
     ]
    }
   ],
   "source": [
    "print (non_attack_dataset)"
   ]
  },
  {
   "cell_type": "code",
   "execution_count": 19,
   "metadata": {},
   "outputs": [
    {
     "data": {
      "image/png": "[encoded data removed]",
      "text/plain": [
       "<Figure size 432x288 with 1 Axes>"
      ]
     },
     "metadata": {
      "needs_background": "light"
     },
     "output_type": "display_data"
    }
   ],
   "source": [
    "import matplotlib.pyplot as plt\n",
    "D = non_attack_dataset\n",
    "plt.bar(*zip(*D.items()))\n",
    "plt.show()"
   ]
  },
  {
   "cell_type": "code",
   "execution_count": 21,
   "metadata": {},
   "outputs": [
    {
     "data": {
      "image/png": "[encoded data removed]",
      "text/plain": [
       "<Figure size 432x288 with 1 Axes>"
      ]
     },
     "metadata": {
      "needs_background": "light"
     },
     "output_type": "display_data"
    }
   ],
   "source": [
    "import matplotlib.pyplot as plt\n",
    "D = attack_dataset\n",
    "plt.bar(*zip(*D.items()))\n",
    "plt.show()"
   ]
  },
  {
   "cell_type": "code",
   "execution_count": null,
   "metadata": {},
   "outputs": [],
   "source": []
  }
 ],
 "metadata": {
  "kernelspec": {
   "display_name": "MyPytorch",
   "language": "python",
   "name": "my_torch_env"
  },
  "language_info": {
   "codemirror_mode": {
    "name": "ipython",
    "version": 3
   },
   "file_extension": ".py",
   "mimetype": "text/x-python",
   "name": "python",
   "nbconvert_exporter": "python",
   "pygments_lexer": "ipython3",
   "version": "3.6.8"
  }
 },
 "nbformat": 4,
 "nbformat_minor": 2
}
